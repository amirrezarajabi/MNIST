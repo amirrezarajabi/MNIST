{
 "cells": [
  {
   "cell_type": "code",
   "execution_count": 1,
   "id": "f9843965",
   "metadata": {},
   "outputs": [
    {
     "name": "stderr",
     "output_type": "stream",
     "text": [
      "C:\\Users\\amirr\\AppData\\Roaming\\Python\\Python38\\site-packages\\tqdm\\auto.py:22: TqdmWarning: IProgress not found. Please update jupyter and ipywidgets. See https://ipywidgets.readthedocs.io/en/stable/user_install.html\n",
      "  from .autonotebook import tqdm as notebook_tqdm\n"
     ]
    }
   ],
   "source": [
    "import torch\n",
    "from torchsummary import summary\n",
    "from torchvision import datasets\n",
    "from torchvision.transforms import ToTensor\n",
    "import matplotlib.pyplot as plt"
   ]
  },
  {
   "cell_type": "code",
   "execution_count": 2,
   "id": "3701af0d",
   "metadata": {},
   "outputs": [],
   "source": [
    "train_ = datasets.MNIST(\n",
    "    root='data',\n",
    "    train=True,\n",
    "    transform=ToTensor(),\n",
    "    download=True\n",
    ")"
   ]
  },
  {
   "cell_type": "code",
   "execution_count": 3,
   "id": "266371b7",
   "metadata": {},
   "outputs": [],
   "source": [
    "test_ = datasets.MNIST(\n",
    "    root='data',\n",
    "    train=False,\n",
    "    transform=ToTensor()\n",
    ")"
   ]
  },
  {
   "cell_type": "code",
   "execution_count": 4,
   "id": "aaa288a4",
   "metadata": {},
   "outputs": [
    {
     "data": {
      "text/plain": [
       "Dataset MNIST\n",
       "    Number of datapoints: 60000\n",
       "    Root location: data\n",
       "    Split: Train\n",
       "    StandardTransform\n",
       "Transform: ToTensor()"
      ]
     },
     "execution_count": 4,
     "metadata": {},
     "output_type": "execute_result"
    }
   ],
   "source": [
    "train_"
   ]
  },
  {
   "cell_type": "code",
   "execution_count": 5,
   "id": "3e6c418a",
   "metadata": {},
   "outputs": [
    {
     "data": {
      "text/plain": [
       "Dataset MNIST\n",
       "    Number of datapoints: 10000\n",
       "    Root location: data\n",
       "    Split: Test\n",
       "    StandardTransform\n",
       "Transform: ToTensor()"
      ]
     },
     "execution_count": 5,
     "metadata": {},
     "output_type": "execute_result"
    }
   ],
   "source": [
    "test_"
   ]
  },
  {
   "cell_type": "code",
   "execution_count": 6,
   "id": "037180af",
   "metadata": {},
   "outputs": [
    {
     "data": {
      "text/plain": [
       "(torch.Size([60000, 28, 28]), torch.Size([60000]))"
      ]
     },
     "execution_count": 6,
     "metadata": {},
     "output_type": "execute_result"
    }
   ],
   "source": [
    "train_.data.shape, train_.targets.shape"
   ]
  },
  {
   "cell_type": "code",
   "execution_count": 7,
   "id": "b3b87251",
   "metadata": {},
   "outputs": [
    {
     "data": {
      "text/plain": [
       "tensor(5)"
      ]
     },
     "execution_count": 7,
     "metadata": {},
     "output_type": "execute_result"
    }
   ],
   "source": [
    "train_.targets[0]"
   ]
  },
  {
   "cell_type": "code",
   "execution_count": 8,
   "id": "a4a7c8eb",
   "metadata": {},
   "outputs": [
    {
     "data": {
      "text/plain": [
       "<matplotlib.image.AxesImage at 0x167a3134160>"
      ]
     },
     "execution_count": 8,
     "metadata": {},
     "output_type": "execute_result"
    },
    {
     "data": {
      "image/png": "[encoded data removed]",
      "text/plain": [
       "<Figure size 432x288 with 1 Axes>"
      ]
     },
     "metadata": {
      "needs_background": "light"
     },
     "output_type": "display_data"
    }
   ],
   "source": [
    "plt.imshow(train_.data[0], cmap='gray')"
   ]
  },
  {
   "cell_type": "code",
   "execution_count": 9,
   "id": "982d1fca",
   "metadata": {},
   "outputs": [],
   "source": [
    "from torch.utils.data import DataLoader\n",
    "\n",
    "train_loader = DataLoader(train_, batch_size=100, shuffle=True)\n",
    "test_loader = DataLoader(test_, batch_size=100, shuffle=True)"
   ]
  },
  {
   "cell_type": "code",
   "execution_count": 10,
   "id": "51f2ea80",
   "metadata": {},
   "outputs": [
    {
     "data": {
      "text/plain": [
       "(<torch.utils.data.dataloader.DataLoader at 0x167a3172730>,\n",
       " <torch.utils.data.dataloader.DataLoader at 0x167a3172760>)"
      ]
     },
     "execution_count": 10,
     "metadata": {},
     "output_type": "execute_result"
    }
   ],
   "source": [
    "train_loader, test_loader"
   ]
  },
  {
   "cell_type": "code",
   "execution_count": 11,
   "id": "bfdeb1a0",
   "metadata": {},
   "outputs": [],
   "source": [
    "# 28 -> 24 -> 12 -> 8 -> 4 ==> 4 * 4 *16 = 256\n",
    "\n",
    "class Model(torch.nn.Module):\n",
    "    def __init__(self):\n",
    "        super(Model, self).__init__()\n",
    "        self.conv1 = torch.nn.Conv2d(in_channels=1, out_channels=6, kernel_size=(5, 5), stride=(1, 1))\n",
    "        self.maxpoll1 = torch.nn.MaxPool2d(kernel_size=(2, 2), stride=(2, 2))\n",
    "        self.conv2 = torch.nn.Conv2d(in_channels=6, out_channels=16, kernel_size=(5, 5), stride=(1, 1))\n",
    "        self.maxpoll2 = torch.nn.MaxPool2d(kernel_size=(2, 2), stride=(2, 2))\n",
    "        self.l1 = torch.nn.Linear(256, 128)\n",
    "        self.l2 = torch.nn.Linear(128, 64)\n",
    "        self.l3 = torch.nn.Linear(64, 10)\n",
    "    def forward(self, x):\n",
    "        out = self.conv1(x)\n",
    "        out = self.maxpoll1(out)\n",
    "        out = self.conv2(out)\n",
    "        out = self.maxpoll2(out)\n",
    "        out = out.view(out.shape[0], -1)\n",
    "        out = self.l1(out)\n",
    "        out = self.l2(out)\n",
    "        out = self.l3(out)\n",
    "        return out"
   ]
  },
  {
   "cell_type": "code",
   "execution_count": 12,
   "id": "ac4f1930",
   "metadata": {},
   "outputs": [
    {
     "data": {
      "text/plain": [
       "torch.Size([100, 28, 28])"
      ]
     },
     "execution_count": 12,
     "metadata": {},
     "output_type": "execute_result"
    }
   ],
   "source": [
    "train_.data[0:100].shape"
   ]
  },
  {
   "cell_type": "code",
   "execution_count": 13,
   "id": "9d95979a",
   "metadata": {},
   "outputs": [
    {
     "name": "stdout",
     "output_type": "stream",
     "text": [
      "----------------------------------------------------------------\n",
      "        Layer (type)               Output Shape         Param #\n",
      "================================================================\n",
      "            Conv2d-1            [-1, 6, 24, 24]             156\n",
      "         MaxPool2d-2            [-1, 6, 12, 12]               0\n",
      "            Conv2d-3             [-1, 16, 8, 8]           2,416\n",
      "         MaxPool2d-4             [-1, 16, 4, 4]               0\n",
      "            Linear-5                  [-1, 128]          32,896\n",
      "            Linear-6                   [-1, 64]           8,256\n",
      "            Linear-7                   [-1, 10]             650\n",
      "================================================================\n",
      "Total params: 44,374\n",
      "Trainable params: 44,374\n",
      "Non-trainable params: 0\n",
      "----------------------------------------------------------------\n",
      "Input size (MB): 0.00\n",
      "Forward/backward pass size (MB): 0.04\n",
      "Params size (MB): 0.17\n",
      "Estimated Total Size (MB): 0.22\n",
      "----------------------------------------------------------------\n"
     ]
    }
   ],
   "source": [
    "cnn = Model()\n",
    "optimizer = torch.optim.Adam(cnn.parameters(), lr=0.003)\n",
    "criterion = torch.nn.CrossEntropyLoss()\n",
    "summary(cnn, (1, 28, 28))"
   ]
  },
  {
   "cell_type": "code",
   "execution_count": 14,
   "id": "d4df2c49",
   "metadata": {},
   "outputs": [
    {
     "name": "stdout",
     "output_type": "stream",
     "text": [
      "20.0 %\n",
      "40.0 %\n",
      "60.0 %\n",
      "80.0 %\n",
      "100.0 %\n"
     ]
    }
   ],
   "source": [
    "EPOCH = 20\n",
    "R_EPOCH = EPOCH // 5\n",
    "for ep in range(1, EPOCH + 1):\n",
    "    for i, (X, y) in enumerate(train_loader):\n",
    "        b_X, b_y = torch.autograd.Variable(X), torch.autograd.Variable(y)\n",
    "        yp = cnn(b_X)\n",
    "        loss = criterion(yp, b_y)\n",
    "        loss.backward()\n",
    "        optimizer.step()\n",
    "        optimizer.zero_grad()\n",
    "    if ep % R_EPOCH == 0:\n",
    "        print(f\"{ep * 100 / EPOCH} %\")"
   ]
  },
  {
   "cell_type": "code",
   "execution_count": 15,
   "id": "82e4fe53",
   "metadata": {},
   "outputs": [
    {
     "name": "stdout",
     "output_type": "stream",
     "text": [
      "97.58999633789062 %\n"
     ]
    }
   ],
   "source": [
    "acc = 0\n",
    "with torch.no_grad():\n",
    "    for X, y in test_loader:\n",
    "        yp = cnn(X)\n",
    "        yp = torch.nn.functional.softmax(yp, dim=1)\n",
    "        yp = torch.argmax(yp, 1)\n",
    "        for i in range(len(yp)):\n",
    "            acc += (yp[i] == y[i])\n",
    "    print(f\"{100 * acc / test_.data.shape[0]} %\")"
   ]
  },
  {
   "cell_type": "code",
   "execution_count": 16,
   "id": "897175db",
   "metadata": {},
   "outputs": [
    {
     "name": "stdout",
     "output_type": "stream",
     "text": [
      "98.65666961669922 %\n"
     ]
    }
   ],
   "source": [
    "acc = 0\n",
    "with torch.no_grad():\n",
    "    for X, y in train_loader:\n",
    "        yp = cnn(X)\n",
    "        yp = torch.nn.functional.softmax(yp, dim=1)\n",
    "        yp = torch.argmax(yp, 1)\n",
    "        for i in range(len(yp)):\n",
    "            acc += (yp[i] == y[i])\n",
    "    print(f\"{100 * acc / train_.data.shape[0]} %\")"
   ]
  },
  {
   "cell_type": "code",
   "execution_count": 17,
   "id": "260bd20c",
   "metadata": {},
   "outputs": [],
   "source": [
    "torch.save(cnn, \"PYTORCH_MODEL.rjb\")"
   ]
  }
 ],
 "metadata": {
  "kernelspec": {
   "display_name": "Python 3 (ipykernel)",
   "language": "python",
   "name": "python3"
  },
  "language_info": {
   "codemirror_mode": {
    "name": "ipython",
    "version": 3
   },
   "file_extension": ".py",
   "mimetype": "text/x-python",
   "name": "python",
   "nbconvert_exporter": "python",
   "pygments_lexer": "ipython3",
   "version": "3.8.0"
  }
 },
 "nbformat": 4,
 "nbformat_minor": 5
}
